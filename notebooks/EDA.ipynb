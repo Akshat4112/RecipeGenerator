{
 "cells": [
  {
   "cell_type": "code",
   "execution_count": 12,
   "id": "bbbe8bbf",
   "metadata": {},
   "outputs": [],
   "source": [
    "import numpy as np\n",
    "import pandas as pd"
   ]
  },
  {
   "cell_type": "code",
   "execution_count": 13,
   "id": "0a4c56d5",
   "metadata": {},
   "outputs": [],
   "source": [
    "df = pd.read_csv(\"../data/processed/recipes_csv.csv\")"
   ]
  },
  {
   "cell_type": "code",
   "execution_count": 14,
   "id": "30e7addc",
   "metadata": {},
   "outputs": [
    {
     "data": {
      "text/html": [
       "<div>\n",
       "<style scoped>\n",
       "    .dataframe tbody tr th:only-of-type {\n",
       "        vertical-align: middle;\n",
       "    }\n",
       "\n",
       "    .dataframe tbody tr th {\n",
       "        vertical-align: top;\n",
       "    }\n",
       "\n",
       "    .dataframe thead th {\n",
       "        text-align: right;\n",
       "    }\n",
       "</style>\n",
       "<table border=\"1\" class=\"dataframe\">\n",
       "  <thead>\n",
       "    <tr style=\"text-align: right;\">\n",
       "      <th></th>\n",
       "      <th>Url</th>\n",
       "      <th>Instructions</th>\n",
       "      <th>Ingredients</th>\n",
       "      <th>Day</th>\n",
       "      <th>Name</th>\n",
       "      <th>Year</th>\n",
       "      <th>Month</th>\n",
       "      <th>Weekday</th>\n",
       "    </tr>\n",
       "  </thead>\n",
       "  <tbody>\n",
       "    <tr>\n",
       "      <th>0</th>\n",
       "      <td>https://www.chefkoch.de/rezepte/185441079701305/</td>\n",
       "      <td>Die Eier hart kochen. Dann pellen und mit eine...</td>\n",
       "      <td>['600 g Hackfleisch, halb und halb', '800 g Sa...</td>\n",
       "      <td>1</td>\n",
       "      <td>Gebratener Hasenrücken</td>\n",
       "      <td>2009</td>\n",
       "      <td>January</td>\n",
       "      <td>Thursday</td>\n",
       "    </tr>\n",
       "    <tr>\n",
       "      <th>1</th>\n",
       "      <td>https://www.chefkoch.de/rezepte/2718181424631245/</td>\n",
       "      <td>Vorab folgende Bemerkung: Alle Mengen sind Cir...</td>\n",
       "      <td>['1 kg Strauchtomate(n)', '1 Gemüsezwiebel(n)'...</td>\n",
       "      <td>1</td>\n",
       "      <td>Pilz Stroganoff</td>\n",
       "      <td>2017</td>\n",
       "      <td>July</td>\n",
       "      <td>Saturday</td>\n",
       "    </tr>\n",
       "    <tr>\n",
       "      <th>2</th>\n",
       "      <td>https://www.chefkoch.de/rezepte/46341015661368/</td>\n",
       "      <td>Die Kirschen abtropfen lassen, dabei den Saft ...</td>\n",
       "      <td>['1 Glas Kirsche(n)', '1 Pck. Vanillepuddingpu...</td>\n",
       "      <td>1</td>\n",
       "      <td>Kaninchen a la Gioff</td>\n",
       "      <td>2007</td>\n",
       "      <td>January</td>\n",
       "      <td>Monday</td>\n",
       "    </tr>\n",
       "    <tr>\n",
       "      <th>3</th>\n",
       "      <td>https://www.chefkoch.de/rezepte/51051018014178/</td>\n",
       "      <td>Den Spargel säubern, die holzigen Enden abschn...</td>\n",
       "      <td>['500 g Spargel, grüner', '300 ml Brühe oder F...</td>\n",
       "      <td>1</td>\n",
       "      <td>Spanisches Knoblauch-Kaninchen</td>\n",
       "      <td>2013</td>\n",
       "      <td>April</td>\n",
       "      <td>Monday</td>\n",
       "    </tr>\n",
       "    <tr>\n",
       "      <th>4</th>\n",
       "      <td>https://www.chefkoch.de/rezepte/1555771262860408/</td>\n",
       "      <td>Kohlrabi schälen und klein würfeln. Mit der Br...</td>\n",
       "      <td>['250 g Kohlrabi', '150 ml Gemüsebrühe', '150 ...</td>\n",
       "      <td>1</td>\n",
       "      <td>Gnocchi - Hack - Pfanne mit Basilikum</td>\n",
       "      <td>2017</td>\n",
       "      <td>August</td>\n",
       "      <td>Tuesday</td>\n",
       "    </tr>\n",
       "    <tr>\n",
       "      <th>5</th>\n",
       "      <td>https://www.chefkoch.de/rezepte/318661113606205/</td>\n",
       "      <td>Aus dem Mehl, der Butter, dem Ei und etwas Sal...</td>\n",
       "      <td>['Für den Mürbeteig:', '200 g Weizenmehl', '10...</td>\n",
       "      <td>1</td>\n",
       "      <td>Spaghetti Siracusani</td>\n",
       "      <td>2011</td>\n",
       "      <td>August</td>\n",
       "      <td>Monday</td>\n",
       "    </tr>\n",
       "    <tr>\n",
       "      <th>6</th>\n",
       "      <td>https://www.chefkoch.de/rezepte/307991111110164/</td>\n",
       "      <td>Das Öl mit dem Rotwein, dem Essig, den Wachold...</td>\n",
       "      <td>['Für die Marinade:', '3 EL Öl', '5 EL Rotwein...</td>\n",
       "      <td>1</td>\n",
       "      <td>Rehrücken in Salzkruste mit Waldpilzgulasch</td>\n",
       "      <td>2006</td>\n",
       "      <td>October</td>\n",
       "      <td>Sunday</td>\n",
       "    </tr>\n",
       "  </tbody>\n",
       "</table>\n",
       "</div>"
      ],
      "text/plain": [
       "                                                 Url  \\\n",
       "0   https://www.chefkoch.de/rezepte/185441079701305/   \n",
       "1  https://www.chefkoch.de/rezepte/2718181424631245/   \n",
       "2    https://www.chefkoch.de/rezepte/46341015661368/   \n",
       "3    https://www.chefkoch.de/rezepte/51051018014178/   \n",
       "4  https://www.chefkoch.de/rezepte/1555771262860408/   \n",
       "5   https://www.chefkoch.de/rezepte/318661113606205/   \n",
       "6   https://www.chefkoch.de/rezepte/307991111110164/   \n",
       "\n",
       "                                        Instructions  \\\n",
       "0  Die Eier hart kochen. Dann pellen und mit eine...   \n",
       "1  Vorab folgende Bemerkung: Alle Mengen sind Cir...   \n",
       "2  Die Kirschen abtropfen lassen, dabei den Saft ...   \n",
       "3  Den Spargel säubern, die holzigen Enden abschn...   \n",
       "4  Kohlrabi schälen und klein würfeln. Mit der Br...   \n",
       "5  Aus dem Mehl, der Butter, dem Ei und etwas Sal...   \n",
       "6  Das Öl mit dem Rotwein, dem Essig, den Wachold...   \n",
       "\n",
       "                                         Ingredients  Day  \\\n",
       "0  ['600 g Hackfleisch, halb und halb', '800 g Sa...    1   \n",
       "1  ['1 kg Strauchtomate(n)', '1 Gemüsezwiebel(n)'...    1   \n",
       "2  ['1 Glas Kirsche(n)', '1 Pck. Vanillepuddingpu...    1   \n",
       "3  ['500 g Spargel, grüner', '300 ml Brühe oder F...    1   \n",
       "4  ['250 g Kohlrabi', '150 ml Gemüsebrühe', '150 ...    1   \n",
       "5  ['Für den Mürbeteig:', '200 g Weizenmehl', '10...    1   \n",
       "6  ['Für die Marinade:', '3 EL Öl', '5 EL Rotwein...    1   \n",
       "\n",
       "                                          Name  Year    Month   Weekday  \n",
       "0                       Gebratener Hasenrücken  2009  January  Thursday  \n",
       "1                              Pilz Stroganoff  2017     July  Saturday  \n",
       "2                         Kaninchen a la Gioff  2007  January    Monday  \n",
       "3               Spanisches Knoblauch-Kaninchen  2013    April    Monday  \n",
       "4        Gnocchi - Hack - Pfanne mit Basilikum  2017   August   Tuesday  \n",
       "5                         Spaghetti Siracusani  2011   August    Monday  \n",
       "6  Rehrücken in Salzkruste mit Waldpilzgulasch  2006  October    Sunday  "
      ]
     },
     "execution_count": 14,
     "metadata": {},
     "output_type": "execute_result"
    }
   ],
   "source": [
    "df.drop(columns=[\"Unnamed: 0\", \"index\"], inplace=True)\n",
    "df.head(7)"
   ]
  },
  {
   "cell_type": "code",
   "execution_count": 15,
   "id": "29d5d932",
   "metadata": {},
   "outputs": [
    {
     "name": "stdout",
     "output_type": "stream",
     "text": [
      "Dataset has 12190 datapoints\n",
      "Dataset has 8 features\n"
     ]
    }
   ],
   "source": [
    "#Now we look into dataset\n",
    "print(\"Dataset has {} datapoints\".format(df.shape[0]))\n",
    "print(\"Dataset has {} features\".format(len(df.columns)))"
   ]
  },
  {
   "cell_type": "code",
   "execution_count": 16,
   "id": "8b3afd14",
   "metadata": {},
   "outputs": [
    {
     "name": "stdout",
     "output_type": "stream",
     "text": [
      "Url             object\n",
      "Instructions    object\n",
      "Ingredients     object\n",
      "Day              int64\n",
      "Name            object\n",
      "Year             int64\n",
      "Month           object\n",
      "Weekday         object\n",
      "dtype: object\n"
     ]
    }
   ],
   "source": [
    "print(df.dtypes)"
   ]
  },
  {
   "cell_type": "code",
   "execution_count": null,
   "id": "bcc85e40",
   "metadata": {},
   "outputs": [],
   "source": []
  }
 ],
 "metadata": {
  "kernelspec": {
   "display_name": "Python 3 (ipykernel)",
   "language": "python",
   "name": "python3"
  },
  "language_info": {
   "codemirror_mode": {
    "name": "ipython",
    "version": 3
   },
   "file_extension": ".py",
   "mimetype": "text/x-python",
   "name": "python",
   "nbconvert_exporter": "python",
   "pygments_lexer": "ipython3",
   "version": "3.9.7"
  }
 },
 "nbformat": 4,
 "nbformat_minor": 5
}
