{
 "cells": [
  {
   "cell_type": "code",
   "execution_count": 1,
   "id": "e63b5e37",
   "metadata": {},
   "outputs": [],
   "source": [
    "#Tech Stack\n",
    "\n",
    "#    Python 3.9.7\n",
    "#    Pandas\n",
    "#    Numpy\n",
    "#    Matplotlib\n",
    "#    SQLDB -> SQLite\n",
    "#    NOSQL -> REDIS\n",
    "#    Streamlit\n",
    "#    Keras\n",
    "#    Flask\n",
    "#    Windows OS\n",
    "#    VCS -> Github\n",
    "#    VScode\n",
    "#    XML Technologies and lxml\n",
    "#    Tensorflow\n",
    "#    FastAPI\n",
    "#    AWS EC2 for Hosting ML-backend\n",
    "#    xmlschema\n",
    "#    wordcloud"
   ]
  },
  {
   "cell_type": "code",
   "execution_count": 3,
   "id": "b9088ad3",
   "metadata": {},
   "outputs": [
    {
     "name": "stdout",
     "output_type": "stream",
     "text": [
      "Collecting wordcloud\n",
      "  Using cached wordcloud-1.8.1.tar.gz (220 kB)\n",
      "Requirement already satisfied: numpy>=1.6.1 in c:\\users\\aksha\\appdata\\local\\programs\\python\\python39\\lib\\site-packages (from wordcloud) (1.21.4)\n",
      "Requirement already satisfied: pillow in c:\\users\\aksha\\appdata\\local\\programs\\python\\python39\\lib\\site-packages (from wordcloud) (8.3.2)\n",
      "Requirement already satisfied: matplotlib in c:\\users\\aksha\\appdata\\local\\programs\\python\\python39\\lib\\site-packages (from wordcloud) (3.5.0)\n",
      "Requirement already satisfied: kiwisolver>=1.0.1 in c:\\users\\aksha\\appdata\\local\\programs\\python\\python39\\lib\\site-packages (from matplotlib->wordcloud) (1.3.2)\n",
      "Requirement already satisfied: cycler>=0.10 in c:\\users\\aksha\\appdata\\local\\programs\\python\\python39\\lib\\site-packages (from matplotlib->wordcloud) (0.11.0)\n",
      "Requirement already satisfied: packaging>=20.0 in c:\\users\\aksha\\appdata\\local\\programs\\python\\python39\\lib\\site-packages (from matplotlib->wordcloud) (21.3)\n",
      "Requirement already satisfied: pyparsing>=2.2.1 in c:\\users\\aksha\\appdata\\local\\programs\\python\\python39\\lib\\site-packages (from matplotlib->wordcloud) (3.0.6)\n",
      "Requirement already satisfied: fonttools>=4.22.0 in c:\\users\\aksha\\appdata\\local\\programs\\python\\python39\\lib\\site-packages (from matplotlib->wordcloud) (4.27.1)\n",
      "Requirement already satisfied: python-dateutil>=2.7 in c:\\users\\aksha\\appdata\\local\\programs\\python\\python39\\lib\\site-packages (from matplotlib->wordcloud) (2.8.2)\n",
      "Requirement already satisfied: setuptools-scm>=4 in c:\\users\\aksha\\appdata\\local\\programs\\python\\python39\\lib\\site-packages (from matplotlib->wordcloud) (6.3.2)\n",
      "Requirement already satisfied: six>=1.5 in c:\\users\\aksha\\appdata\\local\\programs\\python\\python39\\lib\\site-packages (from python-dateutil>=2.7->matplotlib->wordcloud) (1.16.0)\n",
      "Requirement already satisfied: tomli>=1.0.0 in c:\\users\\aksha\\appdata\\local\\programs\\python\\python39\\lib\\site-packages (from setuptools-scm>=4->matplotlib->wordcloud) (1.2.2)\n",
      "Requirement already satisfied: setuptools in c:\\users\\aksha\\appdata\\local\\programs\\python\\python39\\lib\\site-packages (from setuptools-scm>=4->matplotlib->wordcloud) (57.4.0)\n",
      "Building wheels for collected packages: wordcloud\n",
      "  Building wheel for wordcloud (setup.py): started\n",
      "  Building wheel for wordcloud (setup.py): finished with status 'error'\n",
      "  Running setup.py clean for wordcloud\n",
      "Failed to build wordcloud\n",
      "Installing collected packages: wordcloud\n",
      "    Running setup.py install for wordcloud: started\n",
      "    Running setup.py install for wordcloud: finished with status 'error'\n"
     ]
    },
    {
     "name": "stderr",
     "output_type": "stream",
     "text": [
      "  ERROR: Command errored out with exit status 1:\n",
      "   command: 'C:\\Users\\aksha\\AppData\\Local\\Programs\\Python\\Python39\\python.exe' -u -c 'import io, os, sys, setuptools, tokenize; sys.argv[0] = '\"'\"'C:\\\\Users\\\\aksha\\\\AppData\\\\Local\\\\Temp\\\\pip-install-9h6en8tq\\\\wordcloud_e4b0670ae5364ca08a475f44b35bec88\\\\setup.py'\"'\"'; __file__='\"'\"'C:\\\\Users\\\\aksha\\\\AppData\\\\Local\\\\Temp\\\\pip-install-9h6en8tq\\\\wordcloud_e4b0670ae5364ca08a475f44b35bec88\\\\setup.py'\"'\"';f = getattr(tokenize, '\"'\"'open'\"'\"', open)(__file__) if os.path.exists(__file__) else io.StringIO('\"'\"'from setuptools import setup; setup()'\"'\"');code = f.read().replace('\"'\"'\\r\\n'\"'\"', '\"'\"'\\n'\"'\"');f.close();exec(compile(code, __file__, '\"'\"'exec'\"'\"'))' bdist_wheel -d 'C:\\Users\\aksha\\AppData\\Local\\Temp\\pip-wheel-b2lwwjnl'\n",
      "       cwd: C:\\Users\\aksha\\AppData\\Local\\Temp\\pip-install-9h6en8tq\\wordcloud_e4b0670ae5364ca08a475f44b35bec88\\\n",
      "  Complete output (20 lines):\n",
      "  running bdist_wheel\n",
      "  running build\n",
      "  running build_py\n",
      "  creating build\n",
      "  creating build\\lib.win-amd64-3.9\n",
      "  creating build\\lib.win-amd64-3.9\\wordcloud\n",
      "  copying wordcloud\\color_from_image.py -> build\\lib.win-amd64-3.9\\wordcloud\n",
      "  copying wordcloud\\tokenization.py -> build\\lib.win-amd64-3.9\\wordcloud\n",
      "  copying wordcloud\\wordcloud.py -> build\\lib.win-amd64-3.9\\wordcloud\n",
      "  copying wordcloud\\wordcloud_cli.py -> build\\lib.win-amd64-3.9\\wordcloud\n",
      "  copying wordcloud\\_version.py -> build\\lib.win-amd64-3.9\\wordcloud\n",
      "  copying wordcloud\\__init__.py -> build\\lib.win-amd64-3.9\\wordcloud\n",
      "  copying wordcloud\\__main__.py -> build\\lib.win-amd64-3.9\\wordcloud\n",
      "  copying wordcloud\\stopwords -> build\\lib.win-amd64-3.9\\wordcloud\n",
      "  copying wordcloud\\DroidSansMono.ttf -> build\\lib.win-amd64-3.9\\wordcloud\n",
      "  UPDATING build\\lib.win-amd64-3.9\\wordcloud/_version.py\n",
      "  set build\\lib.win-amd64-3.9\\wordcloud/_version.py to '1.8.1'\n",
      "  running build_ext\n",
      "  building 'wordcloud.query_integral_image' extension\n",
      "  error: Microsoft Visual C++ 14.0 or greater is required. Get it with \"Microsoft C++ Build Tools\": https://visualstudio.microsoft.com/visual-cpp-build-tools/\n",
      "  ----------------------------------------\n",
      "  ERROR: Failed building wheel for wordcloud\n",
      "    ERROR: Command errored out with exit status 1:\n",
      "     command: 'C:\\Users\\aksha\\AppData\\Local\\Programs\\Python\\Python39\\python.exe' -u -c 'import io, os, sys, setuptools, tokenize; sys.argv[0] = '\"'\"'C:\\\\Users\\\\aksha\\\\AppData\\\\Local\\\\Temp\\\\pip-install-9h6en8tq\\\\wordcloud_e4b0670ae5364ca08a475f44b35bec88\\\\setup.py'\"'\"'; __file__='\"'\"'C:\\\\Users\\\\aksha\\\\AppData\\\\Local\\\\Temp\\\\pip-install-9h6en8tq\\\\wordcloud_e4b0670ae5364ca08a475f44b35bec88\\\\setup.py'\"'\"';f = getattr(tokenize, '\"'\"'open'\"'\"', open)(__file__) if os.path.exists(__file__) else io.StringIO('\"'\"'from setuptools import setup; setup()'\"'\"');code = f.read().replace('\"'\"'\\r\\n'\"'\"', '\"'\"'\\n'\"'\"');f.close();exec(compile(code, __file__, '\"'\"'exec'\"'\"'))' install --record 'C:\\Users\\aksha\\AppData\\Local\\Temp\\pip-record-7jhy9z45\\install-record.txt' --single-version-externally-managed --compile --install-headers 'C:\\Users\\aksha\\AppData\\Local\\Programs\\Python\\Python39\\Include\\wordcloud'\n",
      "         cwd: C:\\Users\\aksha\\AppData\\Local\\Temp\\pip-install-9h6en8tq\\wordcloud_e4b0670ae5364ca08a475f44b35bec88\\\n",
      "    Complete output (20 lines):\n",
      "    running install\n",
      "    running build\n",
      "    running build_py\n",
      "    creating build\n",
      "    creating build\\lib.win-amd64-3.9\n",
      "    creating build\\lib.win-amd64-3.9\\wordcloud\n",
      "    copying wordcloud\\color_from_image.py -> build\\lib.win-amd64-3.9\\wordcloud\n",
      "    copying wordcloud\\tokenization.py -> build\\lib.win-amd64-3.9\\wordcloud\n",
      "    copying wordcloud\\wordcloud.py -> build\\lib.win-amd64-3.9\\wordcloud\n",
      "    copying wordcloud\\wordcloud_cli.py -> build\\lib.win-amd64-3.9\\wordcloud\n",
      "    copying wordcloud\\_version.py -> build\\lib.win-amd64-3.9\\wordcloud\n",
      "    copying wordcloud\\__init__.py -> build\\lib.win-amd64-3.9\\wordcloud\n",
      "    copying wordcloud\\__main__.py -> build\\lib.win-amd64-3.9\\wordcloud\n",
      "    copying wordcloud\\stopwords -> build\\lib.win-amd64-3.9\\wordcloud\n",
      "    copying wordcloud\\DroidSansMono.ttf -> build\\lib.win-amd64-3.9\\wordcloud\n",
      "    UPDATING build\\lib.win-amd64-3.9\\wordcloud/_version.py\n",
      "    set build\\lib.win-amd64-3.9\\wordcloud/_version.py to '1.8.1'\n",
      "    running build_ext\n",
      "    building 'wordcloud.query_integral_image' extension\n",
      "    error: Microsoft Visual C++ 14.0 or greater is required. Get it with \"Microsoft C++ Build Tools\": https://visualstudio.microsoft.com/visual-cpp-build-tools/\n",
      "    ----------------------------------------\n",
      "ERROR: Command errored out with exit status 1: 'C:\\Users\\aksha\\AppData\\Local\\Programs\\Python\\Python39\\python.exe' -u -c 'import io, os, sys, setuptools, tokenize; sys.argv[0] = '\"'\"'C:\\\\Users\\\\aksha\\\\AppData\\\\Local\\\\Temp\\\\pip-install-9h6en8tq\\\\wordcloud_e4b0670ae5364ca08a475f44b35bec88\\\\setup.py'\"'\"'; __file__='\"'\"'C:\\\\Users\\\\aksha\\\\AppData\\\\Local\\\\Temp\\\\pip-install-9h6en8tq\\\\wordcloud_e4b0670ae5364ca08a475f44b35bec88\\\\setup.py'\"'\"';f = getattr(tokenize, '\"'\"'open'\"'\"', open)(__file__) if os.path.exists(__file__) else io.StringIO('\"'\"'from setuptools import setup; setup()'\"'\"');code = f.read().replace('\"'\"'\\r\\n'\"'\"', '\"'\"'\\n'\"'\"');f.close();exec(compile(code, __file__, '\"'\"'exec'\"'\"'))' install --record 'C:\\Users\\aksha\\AppData\\Local\\Temp\\pip-record-7jhy9z45\\install-record.txt' --single-version-externally-managed --compile --install-headers 'C:\\Users\\aksha\\AppData\\Local\\Programs\\Python\\Python39\\Include\\wordcloud' Check the logs for full command output.\n",
      "WARNING: You are using pip version 21.2.3; however, version 21.3.1 is available.\n",
      "You should consider upgrading via the 'C:\\Users\\aksha\\AppData\\Local\\Programs\\Python\\Python39\\python.exe -m pip install --upgrade pip' command.\n"
     ]
    }
   ],
   "source": [
    "import pandas as pd\n",
    "import numpy as np\n",
    "import matplotlib.pyplot as plt\n",
    "import os\n",
    "import json\n",
    "import xmlschema\n",
    "# import wordcloud\n",
    "!pip install wordcloud"
   ]
  },
  {
   "cell_type": "code",
   "execution_count": 3,
   "id": "220ced3d",
   "metadata": {},
   "outputs": [],
   "source": [
    "data = pd.read_json('../data/raw/recipes.json')"
   ]
  },
  {
   "cell_type": "code",
   "execution_count": 7,
   "id": "23eeb8dd",
   "metadata": {},
   "outputs": [],
   "source": [
    "#Create a XML from pandas Dataframe\n",
    "xml_data = data.to_xml('../data/processed/recipes_xml.xml')"
   ]
  },
  {
   "cell_type": "code",
   "execution_count": 14,
   "id": "4626dbd8",
   "metadata": {},
   "outputs": [],
   "source": [
    "#Create XMLSchema from XML File which will be a XDS file\n",
    "\n",
    "#Create a New XML and Validate it using the XML Schema(XSD)\n",
    "\n",
    "#Create a DTD from XSD File\n",
    "\n",
    "#Create a XSLT File from XLS File which can be created from XML File"
   ]
  },
  {
   "cell_type": "code",
   "execution_count": 16,
   "id": "868da028",
   "metadata": {},
   "outputs": [],
   "source": [
    "# Create a CSV from XML \n",
    "data_xml = pd.read_xml(\"../data/processed/recipes_xml.xml\")\n",
    "data_csv = data_xml.to_csv('../data/processed/recipes_csv.csv')"
   ]
  },
  {
   "cell_type": "code",
   "execution_count": 19,
   "id": "c23a412a",
   "metadata": {},
   "outputs": [],
   "source": [
    "dataset = pd.read_csv(\"../data/processed/recipes_csv.csv\")"
   ]
  },
  {
   "cell_type": "code",
   "execution_count": 25,
   "id": "0ab62b1c",
   "metadata": {},
   "outputs": [
    {
     "name": "stdout",
     "output_type": "stream",
     "text": [
      "The dataset has these columns Index(['Unnamed: 0', 'index', 'Url', 'Instructions', 'Ingredients', 'Day',\n",
      "       'Name', 'Year', 'Month', 'Weekday'],\n",
      "      dtype='object')\n"
     ]
    }
   ],
   "source": [
    "#EDA \n",
    "print(\"The dataset has these columns\", dataset.columns)\n",
    "\n",
    "#Here we see that Unnamed: 0 is of NO use so we will drop it. \n",
    "dataset.drop(columns=['Unnamed: 0'], inplace=True, axis = 1)"
   ]
  },
  {
   "cell_type": "code",
   "execution_count": 29,
   "id": "50873d2e",
   "metadata": {},
   "outputs": [
    {
     "name": "stdout",
     "output_type": "stream",
     "text": [
      "Dataset has 12190 datapoints\n",
      "Dataset has 9 features\n"
     ]
    }
   ],
   "source": [
    "#Now we look into dataset\n",
    "print(\"Dataset has {} datapoints\".format(dataset.shape[0]))\n",
    "print(\"Dataset has {} features\".format(len(dataset.columns)))"
   ]
  },
  {
   "cell_type": "code",
   "execution_count": 33,
   "id": "9d246d1d",
   "metadata": {},
   "outputs": [
    {
     "name": "stdout",
     "output_type": "stream",
     "text": [
      "index            int64\n",
      "Url             object\n",
      "Instructions    object\n",
      "Ingredients     object\n",
      "Day              int64\n",
      "Name            object\n",
      "Year             int64\n",
      "Month           object\n",
      "Weekday         object\n",
      "dtype: object\n"
     ]
    }
   ],
   "source": [
    "print(dataset.dtypes)"
   ]
  },
  {
   "cell_type": "code",
   "execution_count": 44,
   "id": "c3e106c1",
   "metadata": {},
   "outputs": [
    {
     "data": {
      "text/plain": [
       "<AxesSubplot:>"
      ]
     },
     "execution_count": 44,
     "metadata": {},
     "output_type": "execute_result"
    },
    {
     "data": {
      "image/png": "[encoded data removed]",
      "text/plain": [
       "<Figure size 360x360 with 1 Axes>"
      ]
     },
     "metadata": {
      "needs_background": "light"
     },
     "output_type": "display_data"
    }
   ],
   "source": [
    "#Distribution of Year Week and Monthday\n",
    "dataset.Year.value_counts().plot(kind='bar',figsize=(5,5))"
   ]
  },
  {
   "cell_type": "code",
   "execution_count": 45,
   "id": "3ff9a5d9",
   "metadata": {},
   "outputs": [
    {
     "data": {
      "text/plain": [
       "<AxesSubplot:>"
      ]
     },
     "execution_count": 45,
     "metadata": {},
     "output_type": "execute_result"
    },
    {
     "data": {
      "image/png": "[encoded data removed]",
      "text/plain": [
       "<Figure size 360x360 with 1 Axes>"
      ]
     },
     "metadata": {
      "needs_background": "light"
     },
     "output_type": "display_data"
    }
   ],
   "source": [
    "dataset.Month.value_counts().plot(kind='bar',figsize=(5,5))"
   ]
  },
  {
   "cell_type": "code",
   "execution_count": 46,
   "id": "581769b6",
   "metadata": {},
   "outputs": [
    {
     "data": {
      "text/plain": [
       "<AxesSubplot:>"
      ]
     },
     "execution_count": 46,
     "metadata": {},
     "output_type": "execute_result"
    },
    {
     "data": {
      "image/png": "[encoded data removed]",
      "text/plain": [
       "<Figure size 360x360 with 1 Axes>"
      ]
     },
     "metadata": {
      "needs_background": "light"
     },
     "output_type": "display_data"
    }
   ],
   "source": [
    "dataset.Weekday.value_counts().plot(kind='bar',figsize=(5,5))"
   ]
  },
  {
   "cell_type": "code",
   "execution_count": 48,
   "id": "bc6c1914",
   "metadata": {},
   "outputs": [
    {
     "data": {
      "text/plain": [
       "0        ['600 g Hackfleisch, halb und halb', '800 g Sa...\n",
       "1        ['1 kg Strauchtomate(n)', '1 Gemüsezwiebel(n)'...\n",
       "2        ['1 Glas Kirsche(n)', '1 Pck. Vanillepuddingpu...\n",
       "3        ['500 g Spargel, grüner', '300 ml Brühe oder F...\n",
       "4        ['250 g Kohlrabi', '150 ml Gemüsebrühe', '150 ...\n",
       "                               ...                        \n",
       "12185    ['3 EL Butter', '800 g Rinderbraten (Schulter ...\n",
       "12186    ['1/2 Salatgurke(n)', '250 g Käse (Emmentaler)...\n",
       "12187    ['1 kg Schmorgurke(n)', '1 kl. Dose/n Tomate(n...\n",
       "12188    ['Für den Fond:', '500 g Knochen vom Wild', '1...\n",
       "12189    ['375 g Mehl (Weizenmehl, Weizenvollkornmehl)'...\n",
       "Name: Ingredients, Length: 12190, dtype: object"
      ]
     },
     "execution_count": 48,
     "metadata": {},
     "output_type": "execute_result"
    }
   ],
   "source": [
    "dataset['Ingredients']"
   ]
  },
  {
   "cell_type": "code",
   "execution_count": 52,
   "id": "0c7718fb",
   "metadata": {},
   "outputs": [
    {
     "name": "stdout",
     "output_type": "stream",
     "text": [
      "Collecting wordcloud\n",
      "  Using cached wordcloud-1.8.1.tar.gz (220 kB)\n",
      "Requirement already satisfied: numpy>=1.6.1 in c:\\users\\aksha\\appdata\\local\\programs\\python\\python39\\lib\\site-packages (from wordcloud) (1.21.4)\n",
      "Requirement already satisfied: pillow in c:\\users\\aksha\\appdata\\local\\programs\\python\\python39\\lib\\site-packages (from wordcloud) (8.3.2)\n",
      "Requirement already satisfied: matplotlib in c:\\users\\aksha\\appdata\\local\\programs\\python\\python39\\lib\\site-packages (from wordcloud) (3.5.0)\n",
      "Requirement already satisfied: python-dateutil>=2.7 in c:\\users\\aksha\\appdata\\local\\programs\\python\\python39\\lib\\site-packages (from matplotlib->wordcloud) (2.8.2)\n",
      "Requirement already satisfied: fonttools>=4.22.0 in c:\\users\\aksha\\appdata\\local\\programs\\python\\python39\\lib\\site-packages (from matplotlib->wordcloud) (4.27.1)\n",
      "Requirement already satisfied: setuptools-scm>=4 in c:\\users\\aksha\\appdata\\local\\programs\\python\\python39\\lib\\site-packages (from matplotlib->wordcloud) (6.3.2)\n",
      "Requirement already satisfied: cycler>=0.10 in c:\\users\\aksha\\appdata\\local\\programs\\python\\python39\\lib\\site-packages (from matplotlib->wordcloud) (0.11.0)\n",
      "Requirement already satisfied: kiwisolver>=1.0.1 in c:\\users\\aksha\\appdata\\local\\programs\\python\\python39\\lib\\site-packages (from matplotlib->wordcloud) (1.3.2)\n",
      "Requirement already satisfied: pyparsing>=2.2.1 in c:\\users\\aksha\\appdata\\local\\programs\\python\\python39\\lib\\site-packages (from matplotlib->wordcloud) (3.0.6)\n",
      "Requirement already satisfied: packaging>=20.0 in c:\\users\\aksha\\appdata\\local\\programs\\python\\python39\\lib\\site-packages (from matplotlib->wordcloud) (21.3)\n",
      "Requirement already satisfied: six>=1.5 in c:\\users\\aksha\\appdata\\local\\programs\\python\\python39\\lib\\site-packages (from python-dateutil>=2.7->matplotlib->wordcloud) (1.16.0)\n",
      "Requirement already satisfied: setuptools in c:\\users\\aksha\\appdata\\local\\programs\\python\\python39\\lib\\site-packages (from setuptools-scm>=4->matplotlib->wordcloud) (57.4.0)\n",
      "Requirement already satisfied: tomli>=1.0.0 in c:\\users\\aksha\\appdata\\local\\programs\\python\\python39\\lib\\site-packages (from setuptools-scm>=4->matplotlib->wordcloud) (1.2.2)\n",
      "Building wheels for collected packages: wordcloud\n",
      "  Building wheel for wordcloud (setup.py): started\n",
      "  Building wheel for wordcloud (setup.py): finished with status 'error'\n",
      "  Running setup.py clean for wordcloud\n",
      "Failed to build wordcloud\n",
      "Installing collected packages: wordcloud\n",
      "    Running setup.py install for wordcloud: started\n",
      "    Running setup.py install for wordcloud: finished with status 'error'\n"
     ]
    },
    {
     "name": "stderr",
     "output_type": "stream",
     "text": [
      "  ERROR: Command errored out with exit status 1:\n",
      "   command: 'C:\\Users\\aksha\\AppData\\Local\\Programs\\Python\\Python39\\python.exe' -u -c 'import io, os, sys, setuptools, tokenize; sys.argv[0] = '\"'\"'C:\\\\Users\\\\aksha\\\\AppData\\\\Local\\\\Temp\\\\pip-install-uby90z23\\\\wordcloud_ea5038e601d34dd7a956d26548af9a53\\\\setup.py'\"'\"'; __file__='\"'\"'C:\\\\Users\\\\aksha\\\\AppData\\\\Local\\\\Temp\\\\pip-install-uby90z23\\\\wordcloud_ea5038e601d34dd7a956d26548af9a53\\\\setup.py'\"'\"';f = getattr(tokenize, '\"'\"'open'\"'\"', open)(__file__) if os.path.exists(__file__) else io.StringIO('\"'\"'from setuptools import setup; setup()'\"'\"');code = f.read().replace('\"'\"'\\r\\n'\"'\"', '\"'\"'\\n'\"'\"');f.close();exec(compile(code, __file__, '\"'\"'exec'\"'\"'))' bdist_wheel -d 'C:\\Users\\aksha\\AppData\\Local\\Temp\\pip-wheel-f1k4n3wm'\n",
      "       cwd: C:\\Users\\aksha\\AppData\\Local\\Temp\\pip-install-uby90z23\\wordcloud_ea5038e601d34dd7a956d26548af9a53\\\n",
      "  Complete output (20 lines):\n",
      "  running bdist_wheel\n",
      "  running build\n",
      "  running build_py\n",
      "  creating build\n",
      "  creating build\\lib.win-amd64-3.9\n",
      "  creating build\\lib.win-amd64-3.9\\wordcloud\n",
      "  copying wordcloud\\color_from_image.py -> build\\lib.win-amd64-3.9\\wordcloud\n",
      "  copying wordcloud\\tokenization.py -> build\\lib.win-amd64-3.9\\wordcloud\n",
      "  copying wordcloud\\wordcloud.py -> build\\lib.win-amd64-3.9\\wordcloud\n",
      "  copying wordcloud\\wordcloud_cli.py -> build\\lib.win-amd64-3.9\\wordcloud\n",
      "  copying wordcloud\\_version.py -> build\\lib.win-amd64-3.9\\wordcloud\n",
      "  copying wordcloud\\__init__.py -> build\\lib.win-amd64-3.9\\wordcloud\n",
      "  copying wordcloud\\__main__.py -> build\\lib.win-amd64-3.9\\wordcloud\n",
      "  copying wordcloud\\stopwords -> build\\lib.win-amd64-3.9\\wordcloud\n",
      "  copying wordcloud\\DroidSansMono.ttf -> build\\lib.win-amd64-3.9\\wordcloud\n",
      "  UPDATING build\\lib.win-amd64-3.9\\wordcloud/_version.py\n",
      "  set build\\lib.win-amd64-3.9\\wordcloud/_version.py to '1.8.1'\n",
      "  running build_ext\n",
      "  building 'wordcloud.query_integral_image' extension\n",
      "  error: Microsoft Visual C++ 14.0 or greater is required. Get it with \"Microsoft C++ Build Tools\": https://visualstudio.microsoft.com/visual-cpp-build-tools/\n",
      "  ----------------------------------------\n",
      "  ERROR: Failed building wheel for wordcloud\n",
      "    ERROR: Command errored out with exit status 1:\n",
      "     command: 'C:\\Users\\aksha\\AppData\\Local\\Programs\\Python\\Python39\\python.exe' -u -c 'import io, os, sys, setuptools, tokenize; sys.argv[0] = '\"'\"'C:\\\\Users\\\\aksha\\\\AppData\\\\Local\\\\Temp\\\\pip-install-uby90z23\\\\wordcloud_ea5038e601d34dd7a956d26548af9a53\\\\setup.py'\"'\"'; __file__='\"'\"'C:\\\\Users\\\\aksha\\\\AppData\\\\Local\\\\Temp\\\\pip-install-uby90z23\\\\wordcloud_ea5038e601d34dd7a956d26548af9a53\\\\setup.py'\"'\"';f = getattr(tokenize, '\"'\"'open'\"'\"', open)(__file__) if os.path.exists(__file__) else io.StringIO('\"'\"'from setuptools import setup; setup()'\"'\"');code = f.read().replace('\"'\"'\\r\\n'\"'\"', '\"'\"'\\n'\"'\"');f.close();exec(compile(code, __file__, '\"'\"'exec'\"'\"'))' install --record 'C:\\Users\\aksha\\AppData\\Local\\Temp\\pip-record-alsffo19\\install-record.txt' --single-version-externally-managed --compile --install-headers 'C:\\Users\\aksha\\AppData\\Local\\Programs\\Python\\Python39\\Include\\wordcloud'\n",
      "         cwd: C:\\Users\\aksha\\AppData\\Local\\Temp\\pip-install-uby90z23\\wordcloud_ea5038e601d34dd7a956d26548af9a53\\\n",
      "    Complete output (20 lines):\n",
      "    running install\n",
      "    running build\n",
      "    running build_py\n",
      "    creating build\n",
      "    creating build\\lib.win-amd64-3.9\n",
      "    creating build\\lib.win-amd64-3.9\\wordcloud\n",
      "    copying wordcloud\\color_from_image.py -> build\\lib.win-amd64-3.9\\wordcloud\n",
      "    copying wordcloud\\tokenization.py -> build\\lib.win-amd64-3.9\\wordcloud\n",
      "    copying wordcloud\\wordcloud.py -> build\\lib.win-amd64-3.9\\wordcloud\n",
      "    copying wordcloud\\wordcloud_cli.py -> build\\lib.win-amd64-3.9\\wordcloud\n",
      "    copying wordcloud\\_version.py -> build\\lib.win-amd64-3.9\\wordcloud\n",
      "    copying wordcloud\\__init__.py -> build\\lib.win-amd64-3.9\\wordcloud\n",
      "    copying wordcloud\\__main__.py -> build\\lib.win-amd64-3.9\\wordcloud\n",
      "    copying wordcloud\\stopwords -> build\\lib.win-amd64-3.9\\wordcloud\n",
      "    copying wordcloud\\DroidSansMono.ttf -> build\\lib.win-amd64-3.9\\wordcloud\n",
      "    UPDATING build\\lib.win-amd64-3.9\\wordcloud/_version.py\n",
      "    set build\\lib.win-amd64-3.9\\wordcloud/_version.py to '1.8.1'\n",
      "    running build_ext\n",
      "    building 'wordcloud.query_integral_image' extension\n",
      "    error: Microsoft Visual C++ 14.0 or greater is required. Get it with \"Microsoft C++ Build Tools\": https://visualstudio.microsoft.com/visual-cpp-build-tools/\n",
      "    ----------------------------------------\n",
      "ERROR: Command errored out with exit status 1: 'C:\\Users\\aksha\\AppData\\Local\\Programs\\Python\\Python39\\python.exe' -u -c 'import io, os, sys, setuptools, tokenize; sys.argv[0] = '\"'\"'C:\\\\Users\\\\aksha\\\\AppData\\\\Local\\\\Temp\\\\pip-install-uby90z23\\\\wordcloud_ea5038e601d34dd7a956d26548af9a53\\\\setup.py'\"'\"'; __file__='\"'\"'C:\\\\Users\\\\aksha\\\\AppData\\\\Local\\\\Temp\\\\pip-install-uby90z23\\\\wordcloud_ea5038e601d34dd7a956d26548af9a53\\\\setup.py'\"'\"';f = getattr(tokenize, '\"'\"'open'\"'\"', open)(__file__) if os.path.exists(__file__) else io.StringIO('\"'\"'from setuptools import setup; setup()'\"'\"');code = f.read().replace('\"'\"'\\r\\n'\"'\"', '\"'\"'\\n'\"'\"');f.close();exec(compile(code, __file__, '\"'\"'exec'\"'\"'))' install --record 'C:\\Users\\aksha\\AppData\\Local\\Temp\\pip-record-alsffo19\\install-record.txt' --single-version-externally-managed --compile --install-headers 'C:\\Users\\aksha\\AppData\\Local\\Programs\\Python\\Python39\\Include\\wordcloud' Check the logs for full command output.\n",
      "WARNING: You are using pip version 21.2.3; however, version 21.3.1 is available.\n",
      "You should consider upgrading via the 'C:\\Users\\aksha\\AppData\\Local\\Programs\\Python\\Python39\\python.exe -m pip install --upgrade pip' command.\n"
     ]
    }
   ],
   "source": [
    "!pip install wordcloud"
   ]
  },
  {
   "cell_type": "code",
   "execution_count": null,
   "id": "9b9b4f92",
   "metadata": {},
   "outputs": [],
   "source": [
    "datas"
   ]
  }
 ],
 "metadata": {
  "kernelspec": {
   "display_name": "Python 3 (ipykernel)",
   "language": "python",
   "name": "python3"
  },
  "language_info": {
   "codemirror_mode": {
    "name": "ipython",
    "version": 3
   },
   "file_extension": ".py",
   "mimetype": "text/x-python",
   "name": "python",
   "nbconvert_exporter": "python",
   "pygments_lexer": "ipython3",
   "version": "3.9.7"
  }
 },
 "nbformat": 4,
 "nbformat_minor": 5
}
